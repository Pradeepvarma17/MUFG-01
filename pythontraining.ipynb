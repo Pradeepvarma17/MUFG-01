{
 "cells": [
  {
   "cell_type": "code",
   "execution_count": 1,
   "id": "775e3ad8-80b0-4e9a-be09-283c20344ff8",
   "metadata": {},
   "outputs": [
    {
     "name": "stdout",
     "output_type": "stream",
     "text": [
      "10 Jeevan 90000\n"
     ]
    }
   ],
   "source": [
    "a=10\n",
    "name=\"Jeevan\"\n",
    "salary=90000\n",
    "print(a,name,salary)"
   ]
  },
  {
   "cell_type": "code",
   "execution_count": 2,
   "id": "4af2d7d4-e39f-4e8c-be26-02ead9de05fb",
   "metadata": {},
   "outputs": [
    {
     "name": "stdout",
     "output_type": "stream",
     "text": [
      "11 11 11 10 20 30\n"
     ]
    }
   ],
   "source": [
    "A=B=C=11\n",
    "x=10\n",
    "y=20\n",
    "z=30\n",
    "print(A,B,C,x,y,z)"
   ]
  },
  {
   "cell_type": "code",
   "execution_count": 3,
   "id": "cde34cd0-e490-4222-86bf-a6a117b5ad32",
   "metadata": {},
   "outputs": [
    {
     "name": "stdout",
     "output_type": "stream",
     "text": [
      "200\n"
     ]
    }
   ],
   "source": [
    "a=200\n",
    "if a==200:\n",
    "    print(a)"
   ]
  },
  {
   "cell_type": "code",
   "execution_count": 4,
   "id": "80d6e67f-7647-4e99-949e-b7cb98677425",
   "metadata": {},
   "outputs": [
    {
     "name": "stdout",
     "output_type": "stream",
     "text": [
      "200is the value\n"
     ]
    }
   ],
   "source": [
    "a=200\n",
    "if a==20:\n",
    "    print(\"a has only 20 in it\")\n",
    "else:\n",
    "    print(f\"{a}is the value\")"
   ]
  },
  {
   "cell_type": "code",
   "execution_count": 5,
   "id": "ea77c75c-68c6-45fa-afa6-e5d089314115",
   "metadata": {},
   "outputs": [
    {
     "name": "stdout",
     "output_type": "stream",
     "text": [
      "value is below 69\n"
     ]
    }
   ],
   "source": [
    "A=69\n",
    "if A<=30:\n",
    "    print(\"value is below 30\")\n",
    "elif A<=50:\n",
    "    print(\"value is below 50\")\n",
    "else:\n",
    "    print(\"value is below 69\")"
   ]
  },
  {
   "cell_type": "code",
   "execution_count": 6,
   "id": "3dfac323-bf6c-4e5f-98e6-db4ec5f5d297",
   "metadata": {},
   "outputs": [
    {
     "name": "stdout",
     "output_type": "stream",
     "text": [
      "1\n",
      "2\n",
      "3\n",
      "4\n",
      "5\n"
     ]
    }
   ],
   "source": [
    "a=1\n",
    "while a<6:\n",
    "    print(a)\n",
    "    a += 1"
   ]
  },
  {
   "cell_type": "code",
   "execution_count": 7,
   "id": "bf778bfb-ce0a-4baa-a9de-681f475aca78",
   "metadata": {},
   "outputs": [
    {
     "name": "stdout",
     "output_type": "stream",
     "text": [
      "10\n",
      "pradeep\n",
      "200000\n"
     ]
    }
   ],
   "source": [
    "a=10\n",
    "name=\"pradeep\"\n",
    "salary=200000\n",
    "print(a)\n",
    "print(name)\n",
    "print(salary)\n"
   ]
  },
  {
   "cell_type": "code",
   "execution_count": 8,
   "id": "1f7c2f74-3118-4bef-a449-57ce47c5e244",
   "metadata": {},
   "outputs": [
    {
     "name": "stdout",
     "output_type": "stream",
     "text": [
      "http://jeevan.com is not secure\n",
      "https://pradeep.com is secure\n"
     ]
    }
   ],
   "source": [
    "website = [\"http://jeevan.com\",\"https://pradeep.com\"]\n",
    "for site in website:\n",
    "    if site.startswith(\"https\"):\n",
    "        print(site,\"is secure\")\n",
    "    else:\n",
    "        print(site,\"is not secure\")"
   ]
  },
  {
   "cell_type": "code",
   "execution_count": 9,
   "id": "ec997b5f-46ec-4098-a574-540bae63db47",
   "metadata": {},
   "outputs": [
    {
     "name": "stdout",
     "output_type": "stream",
     "text": [
      "checking pen\n",
      "checking pencil\n",
      "checking book\n",
      "item found stop searching\n"
     ]
    }
   ],
   "source": [
    "items=[\"pen\",\"pencil\",\"book\",\"guttu\"]\n",
    "for item in items:\n",
    "    print(\"checking\",item)\n",
    "    if item==\"book\":\n",
    "        print(\"item found stop searching\")\n",
    "        break\n",
    "    "
   ]
  },
  {
   "cell_type": "code",
   "execution_count": 10,
   "id": "5e568433-9809-42b1-a1a8-4e8c8954fd21",
   "metadata": {},
   "outputs": [
    {
     "name": "stdout",
     "output_type": "stream",
     "text": [
      "avilable item : pen\n",
      "avilable item : pecil\n",
      "avilable item : book\n"
     ]
    }
   ],
   "source": [
    "items=[\"pen\",\"outofstock\",\"pecil\",\"outofstock\",\"book\"]\n",
    "for item in items:\n",
    "    if item==\"outofstock\":\n",
    "        continue\n",
    "    print(\"avilable item :\",item)"
   ]
  },
  {
   "cell_type": "code",
   "execution_count": 11,
   "id": "780bf018-caf8-4f1e-bb9b-5b676c9cdd80",
   "metadata": {},
   "outputs": [
    {
     "name": "stdout",
     "output_type": "stream",
     "text": [
      "i am jeevan\n"
     ]
    }
   ],
   "source": [
    "def who(name):\n",
    "    return \"i am \" + name\n",
    "print(who(\"jeevan\"))"
   ]
  },
  {
   "cell_type": "code",
   "execution_count": null,
   "id": "70263fd8-b8c3-47b1-acec-baa5f63d2677",
   "metadata": {},
   "outputs": [],
   "source": []
  }
 ],
 "metadata": {
  "kernelspec": {
   "display_name": "Python 3 (ipykernel)",
   "language": "python",
   "name": "python3"
  },
  "language_info": {
   "codemirror_mode": {
    "name": "ipython",
    "version": 3
   },
   "file_extension": ".py",
   "mimetype": "text/x-python",
   "name": "python",
   "nbconvert_exporter": "python",
   "pygments_lexer": "ipython3",
   "version": "3.11.1"
  }
 },
 "nbformat": 4,
 "nbformat_minor": 5
}
