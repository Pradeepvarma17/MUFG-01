{
 "cells": [
  {
   "cell_type": "code",
   "execution_count": 3,
   "id": "283bf364-4b15-4d93-81bd-d22ee4d499a5",
   "metadata": {},
   "outputs": [
    {
     "name": "stdout",
     "output_type": "stream",
     "text": [
      "Print the 3rd Element of lst1:  True\n",
      "Print the 3rd Element of lst1:  True\n",
      "Print the 1st element of 1st1:  Jimi\n",
      "Print the 1st element of 1st1:  Jimi\n"
     ]
    }
   ],
   "source": [
    "lst1 = ['Jimi', 5000, True, 3.8, 2019, 300]\n",
    "print(\"Print the 3rd Element of lst1: \", lst1[2])   # Relative indexing from the start\n",
    "print(\"Print the 3rd Element of lst1: \", lst1[-4])\n",
    "print(\"Print the 1st element of 1st1: \", lst1[0])\n",
    "print(\"Print the 1st element of 1st1: \", lst1[-6])\n"
   ]
  },
  {
   "cell_type": "code",
   "execution_count": 9,
   "id": "eac68ecb-b597-4627-8581-9e056bedab1f",
   "metadata": {},
   "outputs": [
    {
     "name": "stdout",
     "output_type": "stream",
     "text": [
      "['Gilchrist', 'Waugh', 'Dravid', 'Pollock']\n",
      "['Gayle', 'Gilchrist', 'Waugh', 'Dravid', 'Pollock']\n",
      "['Gilchrist', 'Waugh', 'Dravid', 'Pollock', 'Tendulkar', 'Gavaskar', 'Dhoni']\n",
      "['Gilchrist', 'Waugh', 'Dravid', 'Pollock', 'Tendulkar', 'Gavaskar', 'Dhoni']\n",
      "['Pollock', 'Tendulkar']\n"
     ]
    }
   ],
   "source": [
    "# Access cross section of Lists \n",
    "lst1 = ['Gayle', 'Gilchrist', 'Waugh', 'Dravid', 'Pollock', 'Tendulkar', 'Gavaskar', 'Dhoni']\n",
    "print(lst1[1:5])    # Print elements 2 to 5\n",
    "print(lst1[:5])    # Print elements start to 5 - default start 0\n",
    "print(lst1[1:])   #print elements starts from 1 to end\n",
    "print(lst1[1:8])\n",
    "print(lst1[-4:-2])\n"
   ]
  },
  {
   "cell_type": "code",
   "execution_count": 15,
   "id": "58541c6d-7a90-478a-9999-4bfb8d33d266",
   "metadata": {},
   "outputs": [
    {
     "name": "stdout",
     "output_type": "stream",
     "text": [
      "[2, 4, 6, 8, 10, 12]\n",
      "[4, 6, 8, 10, 12, 14]\n",
      "[2, 5, 8, 11]\n"
     ]
    }
   ],
   "source": [
    "# Access cross section of Lists with stride\n",
    "lst1 = [1,2,3,4,5,6,7,8,9,10,11,12,13,14,15]\n",
    "print(lst1[1:12:2])  # Print elements 2 to 12 jumping 2 elements at a time\n",
    "print(lst1[3:15:2])\n",
    "print(lst1[1:12:3])"
   ]
  },
  {
   "cell_type": "code",
   "execution_count": 16,
   "id": "f4ea16d4-ed4f-4d96-8294-4be0e2c31549",
   "metadata": {},
   "outputs": [
    {
     "name": "stdout",
     "output_type": "stream",
     "text": [
      "[1, 2, 3, 4, 5, 6, 7, 8, 9, 10, 0, 1, 2, 3, 4]\n"
     ]
    }
   ],
   "source": [
    "# Adding single elements in Lists\n",
    "lst1 = [1,2,3,4,5,6,7,8,9,10]\n",
    "for x in range(5):\n",
    "    lst1.append(x)   # Append one element each time to the List\n",
    "print(lst1)          # Print the final List"
   ]
  },
  {
   "cell_type": "code",
   "execution_count": 17,
   "id": "1f489873-1036-42a6-99f2-1c0839574115",
   "metadata": {},
   "outputs": [
    {
     "name": "stdout",
     "output_type": "stream",
     "text": [
      "[1, 2, 3, 4, 5, 6, 7, 8, 9, 10, 0, 1, 2, 3, 4, 5, 6, 7, 8, 9]\n"
     ]
    }
   ],
   "source": [
    "# Adding single elements in Lists\n",
    "lst1 = [1,2,3,4,5,6,7,8,9,10]\n",
    "for x in range(10):\n",
    "    lst1.append(x)   # Append one element each time to the List\n",
    "print(lst1)          # Print the final List"
   ]
  },
  {
   "cell_type": "code",
   "execution_count": 18,
   "id": "c421ce67-345f-4dd2-b06a-a89b890ef233",
   "metadata": {},
   "outputs": [
    {
     "name": "stdout",
     "output_type": "stream",
     "text": [
      "[1, 2, 3, 4, 5, 6, 7, 8, 9, 10, 11, 12, 13, 14, 15, 99, 100]\n"
     ]
    }
   ],
   "source": [
    "# Adding multiple elements in Lists\n",
    "lst1 = [1,2,3,4,5,6,7,8,9,10]\n",
    "lst1.extend([11,12,13,14,15,99,100])     # Extend the List by several elements\n",
    "print(lst1)                    # Print the final List"
   ]
  },
  {
   "cell_type": "code",
   "execution_count": 19,
   "id": "d0b1d444-f897-4def-a6b6-988663815347",
   "metadata": {},
   "outputs": [
    {
     "name": "stdout",
     "output_type": "stream",
     "text": [
      "[1, 2, 3, 4, 5, 6, 7, 8, 9, 10, 17, 7, 89, 33]\n"
     ]
    }
   ],
   "source": [
    "# Adding multiple elements in Lists\n",
    "lst1 = [1,2,3,4,5,6,7,8,9,10]\n",
    "lst1.extend([17,7,89,33])     # Extend the List by several elements\n",
    "print(lst1)                    # Print the final List"
   ]
  },
  {
   "cell_type": "code",
   "execution_count": 20,
   "id": "00687948-6d24-4e0f-a8f3-83764adf43ae",
   "metadata": {},
   "outputs": [
    {
     "name": "stdout",
     "output_type": "stream",
     "text": [
      "[1, 2, 3, 4, 5, 6, 7, 8, 9, 10, 11.4, True, 0.89, 'heelo']\n"
     ]
    }
   ],
   "source": [
    "# Adding multiple elements in Lists\n",
    "lst1 = [1,2,3,4,5,6,7,8,9,10]\n",
    "lst1.extend([11.4,True,0.89,\"heelo\"])     # Extend the List by several elements\n",
    "print(lst1)                    # Print the final List"
   ]
  },
  {
   "cell_type": "code",
   "execution_count": 21,
   "id": "364fae48-c50c-45f1-80db-092778c563c1",
   "metadata": {},
   "outputs": [
    {
     "name": "stdout",
     "output_type": "stream",
     "text": [
      "[1, 2, 3, 4, 5, 6, 7, 8, 9, 10, 11, 12, 13, 14]\n"
     ]
    }
   ],
   "source": [
    "# Adding multiple elements in Lists -- another way\n",
    "lst1 = [1,2,3,4,5,6,7,8,9,10]\n",
    "lst2 = [11,12,13,14]\n",
    "lst1 += lst2    # Add lst2 to lst1\n",
    "print(lst1)     # Print the final List"
   ]
  },
  {
   "cell_type": "code",
   "execution_count": 23,
   "id": "c1da1a37-9c41-4f23-82d8-53ed3ff85c2b",
   "metadata": {},
   "outputs": [
    {
     "name": "stdout",
     "output_type": "stream",
     "text": [
      "[1, 2, 3, 4, 5, 6, 7, 8, 9, 10]\n"
     ]
    }
   ],
   "source": [
    "# Adding multiple elements in Lists -- another way\n",
    "lst1 = [1,2,3,4,5,6,7,8,9,10]\n",
    "lst2 = [11,12,13,14]\n",
    "lst2 += lst1   # Add lst2 to lst1\n",
    "print(lst1)     # Print the final List"
   ]
  },
  {
   "cell_type": "code",
   "execution_count": 24,
   "id": "733f9fcc-32af-47a9-9c95-5d2ca1188b46",
   "metadata": {},
   "outputs": [
    {
     "name": "stdout",
     "output_type": "stream",
     "text": [
      "After pop:  [1, 2, 3, 4, 5, 6, 7, 8, 9]\n",
      "After pop of 4th element:  [1, 2, 3, 5, 6, 7, 8, 9]\n"
     ]
    }
   ],
   "source": [
    "# Removing an element using the pop method\n",
    "lst1 = [1,2,3,4,5,6,7,8,9,10]\n",
    "lst1.pop()    # Removes the last element in-place\n",
    "print(\"After pop: \", lst1)\n",
    "lst1.pop(3)    # Removes the specified element in-place\n",
    "print(\"After pop of 4th element: \", lst1)"
   ]
  },
  {
   "cell_type": "code",
   "execution_count": 29,
   "id": "d673ba62-4149-4444-922b-2bec7be329f6",
   "metadata": {},
   "outputs": [
    {
     "name": "stdout",
     "output_type": "stream",
     "text": [
      "After pop:  [1, 2, 3, 4, 5, 6, 7, 8, 9]\n",
      "again pop: [1, 2, 3, 4, 5, 6, 7, 8]\n",
      "[1, 2, 3, 4, 5, 6, 7]\n"
     ]
    }
   ],
   "source": [
    "# Removing an element using the pop method\n",
    "lst1 = [1,2,3,4,5,6,7,8,9,10]\n",
    "lst1.pop()    # Removes the last element in-place\n",
    "print(\"After pop: \", lst1)\n",
    "lst1.pop()\n",
    "print(\"again pop:\", lst1)\n",
    "lst1.pop(7)\n",
    "print(lst1)\n",
    "\n"
   ]
  },
  {
   "cell_type": "code",
   "execution_count": 30,
   "id": "c06a517a-c777-49d7-81e4-c2fb277e6807",
   "metadata": {},
   "outputs": [
    {
     "name": "stdout",
     "output_type": "stream",
     "text": [
      "['Gayle', 'Gilchrist', 'Dravid', 'Pollock', 'Tendulkar', 'Gavaskar', 'Dhoni']\n"
     ]
    }
   ],
   "source": [
    "# Removing an element using the remove method\n",
    "lst1 = ['Gayle', 'Gilchrist', 'Waugh', 'Dravid', 'Pollock', 'Tendulkar', 'Gavaskar', 'Dhoni']\n",
    "lst1.remove('Waugh')    # Removes the specified element in-place\n",
    "print(lst1)\n"
   ]
  },
  {
   "cell_type": "code",
   "execution_count": 31,
   "id": "597a8e88-5be1-4358-8cca-d2865ef65a97",
   "metadata": {},
   "outputs": [
    {
     "name": "stdout",
     "output_type": "stream",
     "text": [
      "['Gayle', 'Gilchrist', 'Waugh', 'Dravid', 'Pollock', 'Tendulkar', 'Gavaskar']\n"
     ]
    }
   ],
   "source": [
    "# Removing an element using the remove method\n",
    "lst1 = ['Gayle', 'Gilchrist', 'Waugh', 'Dravid', 'Pollock', 'Tendulkar', 'Gavaskar', 'Dhoni']\n",
    "lst1.remove('Dhoni')    # Removes the specified element in-place\n",
    "print(lst1)"
   ]
  },
  {
   "cell_type": "code",
   "execution_count": 32,
   "id": "848b6703-a342-450f-91fa-aeecbc2838ec",
   "metadata": {},
   "outputs": [
    {
     "ename": "TypeError",
     "evalue": "list.remove() takes exactly one argument (2 given)",
     "output_type": "error",
     "traceback": [
      "\u001b[31m---------------------------------------------------------------------------\u001b[39m",
      "\u001b[31mTypeError\u001b[39m                                 Traceback (most recent call last)",
      "\u001b[36mCell\u001b[39m\u001b[36m \u001b[39m\u001b[32mIn[32]\u001b[39m\u001b[32m, line 3\u001b[39m\n\u001b[32m      1\u001b[39m \u001b[38;5;66;03m# Removing an element using the remove method\u001b[39;00m\n\u001b[32m      2\u001b[39m lst1 = [\u001b[33m'\u001b[39m\u001b[33mGayle\u001b[39m\u001b[33m'\u001b[39m, \u001b[33m'\u001b[39m\u001b[33mGilchrist\u001b[39m\u001b[33m'\u001b[39m, \u001b[33m'\u001b[39m\u001b[33mWaugh\u001b[39m\u001b[33m'\u001b[39m, \u001b[33m'\u001b[39m\u001b[33mDravid\u001b[39m\u001b[33m'\u001b[39m, \u001b[33m'\u001b[39m\u001b[33mPollock\u001b[39m\u001b[33m'\u001b[39m, \u001b[33m'\u001b[39m\u001b[33mTendulkar\u001b[39m\u001b[33m'\u001b[39m, \u001b[33m'\u001b[39m\u001b[33mGavaskar\u001b[39m\u001b[33m'\u001b[39m, \u001b[33m'\u001b[39m\u001b[33mDhoni\u001b[39m\u001b[33m'\u001b[39m]\n\u001b[32m----> \u001b[39m\u001b[32m3\u001b[39m \u001b[43mlst1\u001b[49m\u001b[43m.\u001b[49m\u001b[43mremove\u001b[49m\u001b[43m(\u001b[49m\u001b[33;43m'\u001b[39;49m\u001b[33;43mWaugh\u001b[39;49m\u001b[33;43m'\u001b[39;49m\u001b[43m,\u001b[49m\u001b[33;43m'\u001b[39;49m\u001b[33;43mDhoni\u001b[39;49m\u001b[33;43m'\u001b[39;49m\u001b[43m)\u001b[49m    \u001b[38;5;66;03m# Removes the specified element in-place\u001b[39;00m\n\u001b[32m      4\u001b[39m \u001b[38;5;28mprint\u001b[39m(lst1)\n",
      "\u001b[31mTypeError\u001b[39m: list.remove() takes exactly one argument (2 given)"
     ]
    }
   ],
   "source": [
    "# Removing an element using the remove method\n",
    "lst1 = ['Gayle', 'Gilchrist', 'Waugh', 'Dravid', 'Pollock', 'Tendulkar', 'Gavaskar', 'Dhoni']\n",
    "lst1.remove('Waugh','Dhoni')    # Removes the specified element in-place\n",
    "print(lst1)"
   ]
  },
  {
   "cell_type": "code",
   "execution_count": 33,
   "id": "d9853c78-f0a1-499f-9448-2936610985db",
   "metadata": {},
   "outputs": [
    {
     "name": "stdout",
     "output_type": "stream",
     "text": [
      "['Gayle', 'Gilchrist', 'Pollock', 'Tendulkar', 'Gavaskar', 'Dhoni']\n"
     ]
    }
   ],
   "source": [
    "# Removing an element using the del keyword\n",
    "lst1 = ['Gayle', 'Gilchrist', 'Waugh', 'Dravid', 'Pollock', 'Tendulkar', 'Gavaskar', 'Dhoni']\n",
    "del lst1[2:4]    # Removes the elements at the specified index range\n",
    "print(lst1)"
   ]
  },
  {
   "cell_type": "markdown",
   "id": "431e6bbe-8da0-4eac-a6ce-9404c2580cc2",
   "metadata": {},
   "source": [
    "**Tuples**"
   ]
  },
  {
   "cell_type": "code",
   "execution_count": 34,
   "id": "cd6d63fa-ea2d-4787-862c-b609146630e5",
   "metadata": {},
   "outputs": [
    {
     "name": "stdout",
     "output_type": "stream",
     "text": [
      "Contents of an empty Tuple:  ()\n",
      "Contents of a simple Tuple:  (1, 2, 3, 4, 5)\n",
      "Contents of a Nested Tuple:  (1, 2, (5, 6, 7), 4, 5)\n",
      "Contents of a Tuple having a Nested List:  (1, 2, (5, 6, 7), 4, [9, 8, 7])\n",
      "Contents of a Tuple having mixed Data Types:  ('Rohit', 'Karnataka', True, 2000)\n"
     ]
    }
   ],
   "source": [
    "# Creating Tuples in various ways\n",
    "tup1 = ()   # Create an empty Tuple\n",
    "print(\"Contents of an empty Tuple: \", tup1)\n",
    "tup1 = (1,2,3,4,5)\n",
    "print(\"Contents of a simple Tuple: \", tup1)\n",
    "tup1 = (1,2,(5,6,7),4,5)\n",
    "print(\"Contents of a Nested Tuple: \", tup1)\n",
    "tup1 = (1,2,(5,6,7),4,[9,8,7])\n",
    "print(\"Contents of a Tuple having a Nested List: \", tup1)\n",
    "tup1 = ('Rohit', 'Karnataka', True, 2000)\n",
    "print(\"Contents of a Tuple having mixed Data Types: \", tup1)"
   ]
  },
  {
   "cell_type": "code",
   "execution_count": 38,
   "id": "9da186c9-028c-403c-85f5-986a36bcec8a",
   "metadata": {},
   "outputs": [
    {
     "name": "stdout",
     "output_type": "stream",
     "text": [
      "<class 'list'>\n",
      "<class 'tuple'>\n",
      "Print Tuple Created from a List (1, 2, 3, 4, 5)\n",
      "Print Tuple Created from a Dictionary ('Name', 'Salary')\n",
      "Print Tuple Created from a String ('C', 'h', 'r', 'i', 's', 't', 'i', 'a', 'n', 'o', ' ', 'R', 'o', 'n', 'a', 'l', 'd', 'o')\n"
     ]
    }
   ],
   "source": [
    "# Creating Tuple using the tuple function\n",
    "lst1 = [1,2,3,4,5]# Create a List\n",
    "print(type(lst1))\n",
    "tup1 = tuple(lst1)\n",
    "print(type(tup1))\n",
    "print(\"Print Tuple Created from a List\", tup1)\n",
    "dict1 = {'Name': 'Robert', 'Salary': 2000}     # Dictionary are key:value pairs separated by comma\n",
    "tup2 = tuple(dict1)     # Note that the Tuple is created with the values of the Dictionary Indexes \n",
    "print(\"Print Tuple Created from a Dictionary\", tup2)\n",
    "str1 = \"Christiano Ronaldo\"\n",
    "tup3 = tuple(str1)   # Tuple created from a String\n",
    "print(\"Print Tuple Created from a String\", tup3)"
   ]
  },
  {
   "cell_type": "code",
   "execution_count": 41,
   "id": "3a49f474-a14c-4bcf-a328-f7e196bbe309",
   "metadata": {},
   "outputs": [
    {
     "name": "stdout",
     "output_type": "stream",
     "text": [
      "Print the 3rd Element of Tup1:  True\n",
      "Print the 3rd Element of Tup1:  True\n",
      "Print the 3rd Element of Tup1:  2019\n",
      "Print the 3rd Element of Tup1:  2019\n"
     ]
    }
   ],
   "source": [
    "# Access Tuples with relative positioning\n",
    "tup1 = ('Jimi', 5000, True, 3.8, 2019, 300)\n",
    "print(\"Print the 3rd Element of Tup1: \", tup1[2])   # Relative indexing from the start\n",
    "print(\"Print the 3rd Element of Tup1: \", tup1[-4])# Relative indexing from the end\n",
    "print(\"Print the 3rd Element of Tup1: \", tup1[4]) \n",
    "print(\"Print the 3rd Element of Tup1: \", tup1[-2]) "
   ]
  },
  {
   "cell_type": "code",
   "execution_count": null,
   "id": "07c061ff-437a-494d-8414-b3fc3b8160fb",
   "metadata": {},
   "outputs": [],
   "source": []
  }
 ],
 "metadata": {
  "kernelspec": {
   "display_name": "Python 3 (ipykernel)",
   "language": "python",
   "name": "python3"
  },
  "language_info": {
   "codemirror_mode": {
    "name": "ipython",
    "version": 3
   },
   "file_extension": ".py",
   "mimetype": "text/x-python",
   "name": "python",
   "nbconvert_exporter": "python",
   "pygments_lexer": "ipython3",
   "version": "3.11.1"
  }
 },
 "nbformat": 4,
 "nbformat_minor": 5
}
